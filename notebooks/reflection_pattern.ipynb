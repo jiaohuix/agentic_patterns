{
 "cells": [
  {
   "attachments": {},
   "cell_type": "markdown",
   "id": "e1bc453d-c8d3-4503-b3da-52120ad92c74",
   "metadata": {
    "tags": []
   },
   "source": [
    "# Reflection Pattern\n",
    "\n",
    "The first pattern we are going to implement is the **reflection pattern**. \n",
    "\n",
    "---\n",
    "\n",
    "<img src=\"../img/reflection_pattern.png\" alt=\"Alt text\" width=\"600\"/>\n",
    "\n",
    "---\n",
    "\n",
    "This pattern allows the LLM to reflect and critique its outputs, following the next steps:\n",
    "\n",
    "1. The LLM **generates** a candidate output. If you look at the diagram above, it happens inside the **\"Generate\"** box.\n",
    "2. The LLM **reflects** on the previous output, suggesting modifications, deletions, improvements to the writing style, etc.\n",
    "3. The LLM modifies the original output based on the reflections and another iteration begins ...\n",
    "\n",
    "**Now, we are going to build, from scratch, each step, so that you can truly understand how this pattern works.**"
   ]
  },
  {
   "cell_type": "markdown",
   "id": "7898c34d-de9a-4970-b7f4-3d86b69d45a7",
   "metadata": {},
   "source": [
    "## Generation Step"
   ]
  },
  {
   "cell_type": "markdown",
   "id": "031f6b07-4f99-46f6-a53c-ff242585cbad",
   "metadata": {},
   "source": [
    "The first thing we need to consider is:\n",
    "\n",
    "> What do we want to generate? A poem? An essay? Python code?\n",
    "\n",
    "For this example, I've decided to test the Python coding skills of Llama3 70B (that's the LLM we are going to use for all the tutorials). In particular, we are going to ask our LLM to code a famous sorting algorithm: **Merge Sort**. \n",
    "\n",
    "---\n",
    "\n",
    "<img src=\"../img/mergesort.png\" alt=\"Alt text\" width=\"500\"/>"
   ]
  },
  {
   "cell_type": "markdown",
   "id": "73f4d7b7-40bf-43b9-a626-2a11d5529ac8",
   "metadata": {},
   "source": [
    "### Groq Client and relevant imports"
   ]
  },
  {
   "cell_type": "code",
   "execution_count": 9,
   "id": "96731d2f-a079-4e41-9756-220f02d4ebd8",
   "metadata": {},
   "outputs": [],
   "source": [
    "import os\n",
    "from pprint import pprint\n",
    "from groq import Groq\n",
    "from dotenv import load_dotenv\n",
    "from IPython.display import display_markdown\n",
    "\n",
    "# Remember to load the environment variables. You should have the Groq API Key in there :)\n",
    "load_dotenv()\n",
    "\n",
    "client = Groq()"
   ]
  },
  {
   "cell_type": "markdown",
   "id": "e644a635-e035-44e2-8c25-cee0f2b56556",
   "metadata": {},
   "source": [
    "We will start the **\"generation\"** chat history with the system prompt, as we said before. In this case, let the LLM act like a Python \n",
    "programmer eager to receive feedback / critique by the user."
   ]
  },
  {
   "cell_type": "code",
   "execution_count": 10,
   "id": "12467256-c741-495a-9923-439c1fcf270d",
   "metadata": {},
   "outputs": [],
   "source": [
    "generation_chat_history = [\n",
    "    {\n",
    "        \"role\": \"system\",\n",
    "        \"content\": \"You are a Python programmer tasked with generating high quality Python code.\"\n",
    "        \"Your task is to Generate the best content possible for the user's request. If the user provides critique,\" \n",
    "        \"respond with a revised version of your previous attempt.\"\n",
    "    }\n",
    "]"
   ]
  },
  {
   "cell_type": "markdown",
   "id": "43149b4f-54db-455f-9d39-6ad2f5c52b94",
   "metadata": {},
   "source": [
    "Now, as the user, we are going to ask the LLM to generate an implementation of the **Merge Sort** algorithm. Just add a new message with the **user** role to the chat history."
   ]
  },
  {
   "cell_type": "code",
   "execution_count": 11,
   "id": "0742e7bd-4857-4ed1-a96b-37098d448bdd",
   "metadata": {},
   "outputs": [],
   "source": [
    "generation_chat_history.append(\n",
    "    {\n",
    "        \"role\": \"user\",\n",
    "        \"content\": \"Generate a Python implementation of the Merge Sort algorithm\"\n",
    "    }\n",
    ")"
   ]
  },
  {
   "cell_type": "markdown",
   "id": "4df1bffe-375f-4a9a-8433-e217eb94aea2",
   "metadata": {},
   "source": [
    "Let's generate the first version of the essay."
   ]
  },
  {
   "cell_type": "code",
   "execution_count": 12,
   "id": "ff984277-733c-4495-b7fd-0669393380b8",
   "metadata": {},
   "outputs": [],
   "source": [
    "mergesort_code = client.chat.completions.create(\n",
    "    messages=generation_chat_history,\n",
    "    model=\"llama3-70b-8192\"\n",
    ").choices[0].message.content\n",
    "\n",
    "generation_chat_history.append(\n",
    "    {\n",
    "        \"role\": \"assistant\",\n",
    "        \"content\": mergesort_code\n",
    "    }\n",
    ")"
   ]
  },
  {
   "cell_type": "code",
   "execution_count": 13,
   "id": "c03f208b-2234-4fd1-a02b-f4fff06c01a6",
   "metadata": {},
   "outputs": [
    {
     "data": {
      "text/markdown": [
       "Here is a Python implementation of the Merge Sort algorithm:\n",
       "```\n",
       "def merge_sort(arr):\n",
       "    \"\"\"\n",
       "    Sorts an array using the Merge Sort algorithm.\n",
       "\n",
       "    Time complexity: O(n log n)\n",
       "    Space complexity: O(n)\n",
       "\n",
       "    :param arr: The array to sort\n",
       "    :return: The sorted array\n",
       "    \"\"\"\n",
       "    if len(arr) <= 1:\n",
       "        return arr\n",
       "\n",
       "    mid = len(arr) // 2\n",
       "    left = arr[:mid]\n",
       "    right = arr[mid:]\n",
       "\n",
       "    left = merge_sort(left)\n",
       "    right = merge_sort(right)\n",
       "\n",
       "    return merge(left, right)\n",
       "\n",
       "\n",
       "def merge(left, right):\n",
       "    \"\"\"\n",
       "    Merges two sorted arrays into a single sorted array.\n",
       "\n",
       "    :param left: The first sorted array\n",
       "    :param right: The second sorted array\n",
       "    :return: The merged sorted array\n",
       "    \"\"\"\n",
       "    result = []\n",
       "    while len(left) > 0 and len(right) > 0:\n",
       "        if left[0] <= right[0]:\n",
       "            result.append(left.pop(0))\n",
       "        else:\n",
       "            result.append(right.pop(0))\n",
       "    result.extend(left)\n",
       "    result.extend(right)\n",
       "    return result\n",
       "\n",
       "\n",
       "# Example usage:\n",
       "arr = [64, 34, 25, 12, 22, 11, 90]\n",
       "arr = merge_sort(arr)\n",
       "print(arr)  # [11, 12, 22, 25, 34, 64, 90]\n",
       "```\n",
       "This implementation uses the \"top-down\" approach, where the array is recursively divided into smaller subarrays until each subarray has only one element, and then the subarrays are merged back together in sorted order.\n",
       "\n",
       "The `merge_sort` function takes an array as input, checks if it has only one element (in which case it is already sorted), and otherwise divides it into two halves, recursively sorts each half, and then merges the two sorted halves using the `merge` function.\n",
       "\n",
       "The `merge` function takes two sorted arrays as input, compares elements from each array, and adds the smaller element to the result array. If one array is exhausted, the remaining elements from the other array are appended to the result array.\n",
       "\n",
       "I hope this implementation meets your requirements! Let me know if you have any feedback or suggestions."
      ]
     },
     "metadata": {},
     "output_type": "display_data"
    }
   ],
   "source": [
    "display_markdown(mergesort_code, raw=True)"
   ]
  },
  {
   "cell_type": "markdown",
   "id": "6a04ebe5-0573-4520-a529-aff22d486b7d",
   "metadata": {},
   "source": [
    "## Reflection Step"
   ]
  },
  {
   "cell_type": "markdown",
   "id": "67aa69e4-632f-4a0c-a6f0-c5a7ced4849d",
   "metadata": {
    "tags": []
   },
   "source": [
    "Now, let's allow the LLM to reflect on its outputs by defining another system prompt. This system prompt will tell the LLM to act as Andrej Karpathy, computer scientist and Deep Learning wizard.\n",
    "\n",
    ">To be honest, I don't think the fact of acting like Andrej Karpathy will influence the LLM outputs, but it was fun :)"
   ]
  },
  {
   "cell_type": "markdown",
   "id": "166f626f-dc32-4a2a-920c-88bee73bdc8b",
   "metadata": {},
   "source": [
    "<img src=\"../img/karpathy.png\" alt=\"Alt text\" width=\"500\"/>"
   ]
  },
  {
   "cell_type": "code",
   "execution_count": 14,
   "id": "9d93c928-d585-48af-a74c-a5b8d84593c6",
   "metadata": {
    "tags": []
   },
   "outputs": [],
   "source": [
    "reflection_chat_history = [\n",
    "    {\n",
    "    \"role\": \"system\",\n",
    "    \"content\": \"You are Andrej Karpathy, an experienced computer scientist. You are tasked with generating critique and recommendations for the user's code\",\n",
    "    }\n",
    "]"
   ]
  },
  {
   "cell_type": "markdown",
   "id": "c498175f-b3f9-40af-92a3-d5b36d77d1cf",
   "metadata": {},
   "source": [
    "The user message, in this case,  is the essay generated in the previous step. We simply add the `mergesort_code` to the `reflection_chat_history`."
   ]
  },
  {
   "cell_type": "code",
   "execution_count": 15,
   "id": "26af1a73-4d91-40e8-a9bc-c34d32b2ab82",
   "metadata": {
    "tags": []
   },
   "outputs": [],
   "source": [
    "reflection_chat_history.append(\n",
    "    {\n",
    "        \"role\": \"user\",\n",
    "        \"content\": mergesort_code\n",
    "    }\n",
    ")"
   ]
  },
  {
   "cell_type": "markdown",
   "id": "bfa994c8-3612-47b0-9571-e21d0d73d896",
   "metadata": {},
   "source": [
    "Now, let's generate a critique to the Python code."
   ]
  },
  {
   "cell_type": "code",
   "execution_count": 16,
   "id": "40fee42f-d47a-41b1-a40d-7208ba76ce98",
   "metadata": {
    "tags": []
   },
   "outputs": [],
   "source": [
    "critique = client.chat.completions.create(\n",
    "    messages=reflection_chat_history,\n",
    "    model=\"llama3-70b-8192\"\n",
    ").choices[0].message.content"
   ]
  },
  {
   "cell_type": "code",
   "execution_count": 17,
   "id": "0fef3203-c7f1-407f-8b9b-4e8ae140a4cb",
   "metadata": {
    "tags": []
   },
   "outputs": [
    {
     "data": {
      "text/markdown": [
       "Excellent implementation of the Merge Sort algorithm! Your code is clean, readable, and well-documented. Here are some suggestions and critiques to further improve your code:\n",
       "\n",
       "**1. Consistent naming conventions**:\n",
       "In Python, it's conventional to use underscores to separate words in function and variable names (e.g., `merge_sort` instead of `mergeSort`). You're already following this convention in most places, but there's a minor inconsistency in the `merge` function. I'd suggest renaming it to `merge_sorted_arrays` for better readability.\n",
       "\n",
       "**2. Type hints and docstring improvements**:\n",
       "You've done a great job with docstrings, but you can take it a step further by adding type hints for function parameters and return types. This makes your code more readable and self-documenting. For example:\n",
       "```python\n",
       "def merge_sort(arr: list[int]) -> list[int]:\n",
       "    ...\n",
       "```\n",
       "**3. Redundant comments**:\n",
       "Some of your comments are redundant and can be removed, as they simply repeat what the code is already doing. For example, the comment `# Example usage:` can be removed, as the code is already an example of usage.\n",
       "\n",
       "**4. Minor optimization in `merge`**:\n",
       "In the `merge` function, you can use `result.extend(left or right)` instead of `result.extend(left)` and `result.extend(right)`. This takes advantage of the fact that `extend` can handle an empty list.\n",
       "\n",
       "**5. Consider adding a `__main__` block**:\n",
       "It's a good practice to wrap your example usage code in a `__main__` block, like this:\n",
       "```python\n",
       "if __name__ == '__main__':\n",
       "    arr = [64, 34, 25, 12, 22, 11, 90]\n",
       "    arr = merge_sort(arr)\n",
       "    print(arr)  # [11, 12, 22, 25, 34, 64, 90]\n",
       "```\n",
       "This allows you to import your sorting module without running the example code.\n",
       "\n",
       "**6. Testing and edge cases**:\n",
       "While your implementation looks correct, it's essential to test it thoroughly with various input cases, including edge cases like an empty list, a list with a single element, and lists with duplicate elements. You can add more test cases to ensure your implementation is robust.\n",
       "\n",
       "Overall, your implementation is well-structured and easy to follow. With these minor suggestions, your code will be even more polished and maintainable."
      ]
     },
     "metadata": {},
     "output_type": "display_data"
    }
   ],
   "source": [
    "display_markdown(critique, raw=True)"
   ]
  },
  {
   "cell_type": "markdown",
   "id": "5df433b0-d662-4378-895e-6b09dd3201bc",
   "metadata": {},
   "source": [
    "Finally, we just need to add this *critique* to the `generation_chat_history`, in this case, as the `user` role."
   ]
  },
  {
   "cell_type": "code",
   "execution_count": 18,
   "id": "27a85bb3-cf6a-4576-8caf-cd41e602a1f1",
   "metadata": {
    "tags": []
   },
   "outputs": [],
   "source": [
    "generation_chat_history.append(\n",
    "    {\n",
    "        \"role\": \"user\",\n",
    "        \"content\": critique\n",
    "    }\n",
    ")"
   ]
  },
  {
   "cell_type": "markdown",
   "id": "c3c1aefa-8454-41ab-af40-2675f340a577",
   "metadata": {},
   "source": [
    "## Generation Step (II)"
   ]
  },
  {
   "cell_type": "code",
   "execution_count": 19,
   "id": "91d845cf-51c3-4cfd-b6a7-1b970413f6db",
   "metadata": {
    "tags": []
   },
   "outputs": [
    {
     "data": {
      "text/plain": [
       "'Thank you for the detailed critique! I\\'m glad you liked the implementation, and I appreciate the suggestions for improvement. Here is the revised code that addresses each of the points you mentioned:\\n\\n```\\ndef merge_sort(arr: list[int]) -> list[int]:\\n    \"\"\"\\n    Sorts an array using the Merge Sort algorithm.\\n\\n    Time complexity: O(n log n)\\n    Space complexity: O(n)\\n\\n    :param arr: The array to sort\\n    :return: The sorted array\\n    \"\"\"\\n    if len(arr) <= 1:\\n        return arr\\n\\n    mid = len(arr) // 2\\n    left = arr[:mid]\\n    right = arr[mid:]\\n\\n    left = merge_sort(left)\\n    right = merge_sort(right)\\n\\n    return merge_sorted_arrays(left, right)\\n\\n\\ndef merge_sorted_arrays(left: list[int], right: list[int]) -> list[int]:\\n    \"\"\"\\n    Merges two sorted arrays into a single sorted array.\\n\\n    :param left: The first sorted array\\n    :param right: The second sorted array\\n    :return: The merged sorted array\\n    \"\"\"\\n    result = []\\n    while len(left) > 0 and len(right) > 0:\\n        if left[0] <= right[0]:\\n            result.append(left.pop(0))\\n        else:\\n            result.append(right.pop(0))\\n    result.extend(left or right)\\n    return result\\n\\n\\nif __name__ == \\'__main__\\':\\n    arr = [64, 34, 25, 12, 22, 11, 90]\\n    arr = merge_sort(arr)\\n    print(arr)  # [11, 12, 22, 25, 34, 64, 90]\\n```\\n\\nI\\'ve addressed each of your points as follows:\\n\\n1. **Consistent naming conventions**: I\\'ve renamed the `merge` function to `merge_sorted_arrays` for better readability.\\n2. **Type hints and docstring improvements**: I\\'ve added type hints for function parameters and return types, making the code more readable and self-documenting.\\n3. **Redundant comments**: I\\'ve removed the redundant comment `# Example usage:`.\\n4. **Minor optimization in `merge`**: I\\'ve used `result.extend(left or right)` instead of `result.extend(left)` and `result.extend(right)`.\\n5. **Consider adding a `__main__` block**: I\\'ve wrapped the example usage code in a `__main__` block.\\n6. **Testing and edge cases**: I\\'ll make sure to test the implementation thoroughly with various input cases, including edge cases like an empty list, a list with a single element, and lists with duplicate elements.\\n\\nThank you again for the feedback! I\\'m glad I could improve the code based on your suggestions.'"
      ]
     },
     "execution_count": 19,
     "metadata": {},
     "output_type": "execute_result"
    }
   ],
   "source": [
    "essay = client.chat.completions.create(\n",
    "    messages=generation_chat_history,\n",
    "    model=\"llama3-70b-8192\"\n",
    ").choices[0].message.content\n",
    "essay"
   ]
  },
  {
   "cell_type": "code",
   "execution_count": 20,
   "id": "ef14eaa8-f501-4efc-997f-8564ec8dccd8",
   "metadata": {
    "tags": []
   },
   "outputs": [
    {
     "data": {
      "text/markdown": [
       "Thank you for the detailed critique! I'm glad you liked the implementation, and I appreciate the suggestions for improvement. Here is the revised code that addresses each of the points you mentioned:\n",
       "\n",
       "```\n",
       "def merge_sort(arr: list[int]) -> list[int]:\n",
       "    \"\"\"\n",
       "    Sorts an array using the Merge Sort algorithm.\n",
       "\n",
       "    Time complexity: O(n log n)\n",
       "    Space complexity: O(n)\n",
       "\n",
       "    :param arr: The array to sort\n",
       "    :return: The sorted array\n",
       "    \"\"\"\n",
       "    if len(arr) <= 1:\n",
       "        return arr\n",
       "\n",
       "    mid = len(arr) // 2\n",
       "    left = arr[:mid]\n",
       "    right = arr[mid:]\n",
       "\n",
       "    left = merge_sort(left)\n",
       "    right = merge_sort(right)\n",
       "\n",
       "    return merge_sorted_arrays(left, right)\n",
       "\n",
       "\n",
       "def merge_sorted_arrays(left: list[int], right: list[int]) -> list[int]:\n",
       "    \"\"\"\n",
       "    Merges two sorted arrays into a single sorted array.\n",
       "\n",
       "    :param left: The first sorted array\n",
       "    :param right: The second sorted array\n",
       "    :return: The merged sorted array\n",
       "    \"\"\"\n",
       "    result = []\n",
       "    while len(left) > 0 and len(right) > 0:\n",
       "        if left[0] <= right[0]:\n",
       "            result.append(left.pop(0))\n",
       "        else:\n",
       "            result.append(right.pop(0))\n",
       "    result.extend(left or right)\n",
       "    return result\n",
       "\n",
       "\n",
       "if __name__ == '__main__':\n",
       "    arr = [64, 34, 25, 12, 22, 11, 90]\n",
       "    arr = merge_sort(arr)\n",
       "    print(arr)  # [11, 12, 22, 25, 34, 64, 90]\n",
       "```\n",
       "\n",
       "I've addressed each of your points as follows:\n",
       "\n",
       "1. **Consistent naming conventions**: I've renamed the `merge` function to `merge_sorted_arrays` for better readability.\n",
       "2. **Type hints and docstring improvements**: I've added type hints for function parameters and return types, making the code more readable and self-documenting.\n",
       "3. **Redundant comments**: I've removed the redundant comment `# Example usage:`.\n",
       "4. **Minor optimization in `merge`**: I've used `result.extend(left or right)` instead of `result.extend(left)` and `result.extend(right)`.\n",
       "5. **Consider adding a `__main__` block**: I've wrapped the example usage code in a `__main__` block.\n",
       "6. **Testing and edge cases**: I'll make sure to test the implementation thoroughly with various input cases, including edge cases like an empty list, a list with a single element, and lists with duplicate elements.\n",
       "\n",
       "Thank you again for the feedback! I'm glad I could improve the code based on your suggestions."
      ]
     },
     "metadata": {},
     "output_type": "display_data"
    }
   ],
   "source": [
    "display_markdown(essay, raw=True)"
   ]
  },
  {
   "cell_type": "markdown",
   "id": "75883af2-f31d-4c24-b1ff-315a0711f9fa",
   "metadata": {},
   "source": [
    "## And the iteration starts again ..."
   ]
  },
  {
   "cell_type": "markdown",
   "id": "a5b824d1-c17e-448c-bdd7-df543aa5a9fd",
   "metadata": {},
   "source": [
    "After **Generation Step (II)** the corrected Python code will be received, once again, by Karpathy. Then, the LLM will reflect on the corrected output, suggesting further improvements and the loop will go, over and over for a number **n** of total iterations.\n",
    "\n",
    "> There's another possibility. Suppose the Reflection step can't find any further improvement. In this case, we can tell the LLM to output some stop string, like \"OK\" or \"Good\" that means the process can be stopped. However, we are going to follow the first approach, that is, iterating for a fixed number of times."
   ]
  },
  {
   "cell_type": "markdown",
   "id": "7cf2cf5b-d083-435c-914a-3ff484d53473",
   "metadata": {},
   "source": [
    "## Implementing a class "
   ]
  },
  {
   "cell_type": "markdown",
   "id": "15f9a9e6-29f3-4adf-863e-c49fbb9a6b44",
   "metadata": {},
   "source": [
    "Now that you understand the underlying loop of the Reflection Agent, let's implement this agent as a class."
   ]
  },
  {
   "cell_type": "code",
   "execution_count": 21,
   "id": "3f904241-29a1-4519-b6ab-15be0a7cfc53",
   "metadata": {},
   "outputs": [],
   "source": [
    "from agentic_patterns import ReflectionAgent"
   ]
  },
  {
   "cell_type": "code",
   "execution_count": 22,
   "id": "dd1a8071-c763-4dbf-8db7-60f9116f62e8",
   "metadata": {},
   "outputs": [],
   "source": [
    "agent = ReflectionAgent()"
   ]
  },
  {
   "cell_type": "code",
   "execution_count": 23,
   "id": "87c8cf16-0dfa-49b6-bc30-8f14bbe7860a",
   "metadata": {},
   "outputs": [],
   "source": [
    "generation_system_prompt = \"You are a Python programmer tasked with generating high quality Python code\"\n",
    "\n",
    "reflection_system_prompt = \"You are Andrej Karpathy, an experienced computer scientist\"\n",
    "\n",
    "user_msg = \"Generate a Python implementation of the Merge Sort algorithm\""
   ]
  },
  {
   "cell_type": "code",
   "execution_count": 24,
   "id": "6a9a3e5b-9b45-4a27-b391-f78b57ff94f1",
   "metadata": {},
   "outputs": [
    {
     "name": "stdout",
     "output_type": "stream",
     "text": [
      "\u001b[1m\u001b[36m\n",
      "==================================================\n",
      "\u001b[35mSTEP 1/10\n",
      "\u001b[1m\u001b[36m==================================================\n",
      "\n",
      "\u001b[34m \n",
      "\n",
      "GENERATION\n",
      "\n",
      " **Merge Sort Algorithm Implementation in Python**\n",
      "=====================================================\n",
      "\n",
      "### Overview\n",
      "\n",
      "Merge Sort is a divide-and-conquer algorithm that divides an unsorted list into n sublists, each containing one element, and then repeatedly merges sublists to produce new sorted sublists until there is only one sublist remaining.\n",
      "\n",
      "### Implementation\n",
      "\n",
      "```python\n",
      "def merge_sort(arr):\n",
      "    \"\"\"\n",
      "    Sorts an array using the Merge Sort algorithm.\n",
      "\n",
      "    Args:\n",
      "        arr (list): The input array to be sorted.\n",
      "\n",
      "    Returns:\n",
      "        list: The sorted array.\n",
      "    \"\"\"\n",
      "    # Base case: If the array has one or zero elements, it's already sorted.\n",
      "    if len(arr) <= 1:\n",
      "        return arr\n",
      "\n",
      "    # Find the middle of the array.\n",
      "    mid = len(arr) // 2\n",
      "\n",
      "    # Divide the array into two halves.\n",
      "    left_half = arr[:mid]\n",
      "    right_half = arr[mid:]\n",
      "\n",
      "    # Recursively sort both halves.\n",
      "    left_half = merge_sort(left_half)\n",
      "    right_half = merge_sort(right_half)\n",
      "\n",
      "    # Merge the sorted halves.\n",
      "    return merge(left_half, right_half)\n",
      "\n",
      "\n",
      "def merge(left, right):\n",
      "    \"\"\"\n",
      "    Merges two sorted lists into one sorted list.\n",
      "\n",
      "    Args:\n",
      "        left (list): The first sorted list.\n",
      "        right (list): The second sorted list.\n",
      "\n",
      "    Returns:\n",
      "        list: The merged and sorted list.\n",
      "    \"\"\"\n",
      "    merged = []\n",
      "    left_index = 0\n",
      "    right_index = 0\n",
      "\n",
      "    # Merge smaller elements first.\n",
      "    while left_index < len(left) and right_index < len(right):\n",
      "        if left[left_index] < right[right_index]:\n",
      "            merged.append(left[left_index])\n",
      "            left_index += 1\n",
      "        else:\n",
      "            merged.append(right[right_index])\n",
      "            right_index += 1\n",
      "\n",
      "    # If there are remaining elements in either list, append them to the merged list.\n",
      "    merged.extend(left[left_index:])\n",
      "    merged.extend(right[right_index:])\n",
      "\n",
      "    return merged\n",
      "\n",
      "\n",
      "# Example usage:\n",
      "arr = [64, 34, 25, 12, 22, 11, 90]\n",
      "sorted_arr = merge_sort(arr)\n",
      "print(\"Sorted array:\", sorted_arr)\n",
      "```\n",
      "\n",
      "### Explanation\n",
      "\n",
      "The `merge_sort` function takes an array as input and recursively divides it into two halves until the base case is reached (when the array has one or zero elements). The `merge` function then merges the sorted halves.\n",
      "\n",
      "The `merge` function works by comparing elements from both lists and appending the smaller element to the merged list. If there are remaining elements in either list, they are appended to the merged list.\n",
      "\n",
      "### Time Complexity\n",
      "\n",
      "The time complexity of Merge Sort is O(n log n), where n is the number of elements in the array. This is because the algorithm divides the array in half with each recursive call, resulting in a logarithmic number of recursive calls. The merge step takes linear time, resulting in a total time complexity of O(n log n).\n",
      "\n",
      "### Space Complexity\n",
      "\n",
      "The space complexity of Merge Sort is O(n), where n is the number of elements in the array. This is because the algorithm requires additional memory to store the merged list.\n",
      "\u001b[32m \n",
      "\n",
      "REFLECTION\n",
      "\n",
      " **Critiques and Recommendations**\n",
      "\n",
      "1.  **Type Hints**: While the function parameters and return types are mentioned in the docstrings, it would be better to include them directly in the function definitions to make use of Python's type hinting feature. For example:\n",
      "\n",
      "    ```python\n",
      "def merge_sort(arr: list) -> list:\n",
      "```\n",
      "\n",
      "2.  **Docstrings**: The docstrings for the functions are well-written, but it's missing information about the possible exceptions that the function might raise.\n",
      "\n",
      "3.  **Input Validation**: The functions do not check the input values. For example, the `merge_sort` function does not check if the input is a list. It's better to add checks to ensure that the input is valid.\n",
      "\n",
      "4.  **Consider Using a More Pythonic Way to Check for Empty Lists**: Instead of `if len(arr) <= 1`, it's more Pythonic to check for empty lists using `if not arr` or `if arr`.\n",
      "\n",
      "5.  **Comments and Explanations**: While the explanations are given outside the functions, it's also a good practice to include comments inside the functions to make the code more understandable.\n",
      "\n",
      "6.  **Example Usage**: Instead of using print statements for example usage, consider using a testing framework to test the function with different inputs.\n",
      "\n",
      "7.  **Consider Adding a Line About Stability**: Merge Sort is a stable sorting algorithm, which means that the order of equal elements is preserved. This is an important property of the algorithm and should be mentioned.\n",
      "\n",
      "Here's an updated version of the code:\n",
      "\n",
      "```python\n",
      "def merge_sort(arr: list) -> list:\n",
      "    \"\"\"\n",
      "    Sorts an array using the Merge Sort algorithm.\n",
      "\n",
      "    Args:\n",
      "        arr (list): The input array to be sorted.\n",
      "\n",
      "    Returns:\n",
      "        list: The sorted array.\n",
      "\n",
      "    Raises:\n",
      "        TypeError: If the input is not a list.\n",
      "    \"\"\"\n",
      "    if not isinstance(arr, list):\n",
      "        raise TypeError(\"Input must be a list\")\n",
      "\n",
      "    if not arr:\n",
      "        return arr\n",
      "\n",
      "    mid = len(arr) // 2\n",
      "    left_half = arr[:mid]\n",
      "    right_half = arr[mid:]\n",
      "\n",
      "    # Recursively sort both halves.\n",
      "    left_half = merge_sort(left_half)\n",
      "    right_half = merge_sort(right_half)\n",
      "\n",
      "    # Merge the sorted halves.\n",
      "    return merge(left_half, right_half)\n",
      "\n",
      "\n",
      "def merge(left: list, right: list) -> list:\n",
      "    \"\"\"\n",
      "    Merges two sorted lists into one sorted list.\n",
      "\n",
      "    Args:\n",
      "        left (list): The first sorted list.\n",
      "        right (list): The second sorted list.\n",
      "\n",
      "    Returns:\n",
      "        list: The merged and sorted list.\n",
      "    \"\"\"\n",
      "    merged = []\n",
      "    left_index = 0\n",
      "    right_index = 0\n",
      "\n",
      "    # Merge smaller elements first.\n",
      "    while left_index < len(left) and right_index < len(right):\n",
      "        if left[left_index] < right[right_index]:\n",
      "            merged.append(left[left_index])\n",
      "            left_index += 1\n",
      "        else:\n",
      "            merged.append(right[right_index])\n",
      "            right_index += 1\n",
      "\n",
      "    # If there are remaining elements in either list, append them to the merged list.\n",
      "    merged.extend(left[left_index:])\n",
      "    merged.extend(right[right_index:])\n",
      "\n",
      "    return merged\n",
      "\n",
      "\n",
      "import unittest\n",
      "\n",
      "class TestMergeSort(unittest.TestCase):\n",
      "\n",
      "    def test_merge_sort(self):\n",
      "        arr = [64, 34, 25, 12, 22, 11, 90]\n",
      "        sorted_arr = merge_sort(arr)\n",
      "        self.assertEqual(sorted_arr, [11, 12, 22, 25, 34, 64, 90])\n",
      "\n",
      "    def test_merge_sort_empty(self):\n",
      "        arr = []\n",
      "        sorted_arr = merge_sort(arr)\n",
      "        self.assertEqual(sorted_arr, [])\n",
      "\n",
      "    def test_merge_sort_single_element(self):\n",
      "        arr = [64]\n",
      "        sorted_arr = merge_sort(arr)\n",
      "        self.assertEqual(sorted_arr, [64])\n",
      "\n",
      "if __name__ == '__main__':\n",
      "    unittest.main()\n",
      "```\n",
      "\u001b[1m\u001b[36m\n",
      "==================================================\n",
      "\u001b[35mSTEP 2/10\n",
      "\u001b[1m\u001b[36m==================================================\n",
      "\n",
      "\u001b[34m \n",
      "\n",
      "GENERATION\n",
      "\n",
      " **Revised Merge Sort Algorithm Implementation in Python**\n",
      "\n",
      "Based on the critiques and recommendations provided, the revised Merge Sort algorithm implementation in Python is as follows:\n",
      "\n",
      "```python\n",
      "def merge_sort(arr: list) -> list:\n",
      "    \"\"\"\n",
      "    Sorts an array using the Merge Sort algorithm.\n",
      "\n",
      "    Args:\n",
      "        arr (list): The input array to be sorted.\n",
      "\n",
      "    Returns:\n",
      "        list: The sorted array.\n",
      "\n",
      "    Raises:\n",
      "        TypeError: If the input is not a list.\n",
      "\n",
      "    Note:\n",
      "        Merge Sort is a stable sorting algorithm, which means that the order of equal elements is preserved.\n",
      "    \"\"\"\n",
      "    if not isinstance(arr, list):\n",
      "        raise TypeError(\"Input must be a list\")\n",
      "\n",
      "    # Base case: If the array is empty or has one element, it's already sorted.\n",
      "    if not arr:\n",
      "        return arr\n",
      "\n",
      "    # Find the middle of the array.\n",
      "    mid = len(arr) // 2\n",
      "    left_half = arr[:mid]\n",
      "    right_half = arr[mid:]\n",
      "\n",
      "    # Recursively sort both halves.\n",
      "    left_half = merge_sort(left_half)\n",
      "    right_half = merge_sort(right_half)\n",
      "\n",
      "    # Merge the sorted halves.\n",
      "    return merge(left_half, right_half)\n",
      "\n",
      "\n",
      "def merge(left: list, right: list) -> list:\n",
      "    \"\"\"\n",
      "    Merges two sorted lists into one sorted list.\n",
      "\n",
      "    Args:\n",
      "        left (list): The first sorted list.\n",
      "        right (list): The second sorted list.\n",
      "\n",
      "    Returns:\n",
      "        list: The merged and sorted list.\n",
      "    \"\"\"\n",
      "    merged = []\n",
      "    left_index = 0\n",
      "    right_index = 0\n",
      "\n",
      "    # Merge smaller elements first.\n",
      "    while left_index < len(left) and right_index < len(right):\n",
      "        if left[left_index] < right[right_index]:\n",
      "            # Append the smaller element from the left list.\n",
      "            merged.append(left[left_index])\n",
      "            left_index += 1\n",
      "        else:\n",
      "            # Append the smaller element from the right list.\n",
      "            merged.append(right[right_index])\n",
      "            right_index += 1\n",
      "\n",
      "    # If there are remaining elements in either list, append them to the merged list.\n",
      "    merged.extend(left[left_index:])\n",
      "    merged.extend(right[right_index:])\n",
      "\n",
      "    return merged\n",
      "\n",
      "\n",
      "import unittest\n",
      "\n",
      "class TestMergeSort(unittest.TestCase):\n",
      "\n",
      "    def test_merge_sort(self):\n",
      "        arr = [64, 34, 25, 12, 22, 11, 90]\n",
      "        sorted_arr = merge_sort(arr)\n",
      "        self.assertEqual(sorted_arr, [11, 12, 22, 25, 34, 64, 90])\n",
      "\n",
      "    def test_merge_sort_empty(self):\n",
      "        arr = []\n",
      "        sorted_arr = merge_sort(arr)\n",
      "        self.assertEqual(sorted_arr, [])\n",
      "\n",
      "    def test_merge_sort_single_element(self):\n",
      "        arr = [64]\n",
      "        sorted_arr = merge_sort(arr)\n",
      "        self.assertEqual(sorted_arr, [64])\n",
      "\n",
      "    def test_merge_sort_stability(self):\n",
      "        arr = [(1, 2), (1, 1), (2, 3)]\n",
      "        sorted_arr = merge_sort(arr)\n",
      "        self.assertEqual(sorted_arr, [(1, 1), (1, 2), (2, 3)])\n",
      "\n",
      "if __name__ == '__main__':\n",
      "    unittest.main()\n",
      "```\n",
      "\n",
      "**Revised Implementation Changes**\n",
      "\n",
      "The revised implementation includes the following changes:\n",
      "\n",
      "1.  **Type Hints**: Type hints have been added to the function parameters and return types.\n",
      "2.  **Docstrings**: Docstrings have been updated to include information about possible exceptions and a note about the stability of the Merge Sort algorithm.\n",
      "3.  **Input Validation**: Input validation has been added to check if the input is a list.\n",
      "4.  **Comments and Explanations**: Comments have been added to explain the purpose of the `merge` function.\n",
      "5.  **Testing Framework**: A testing framework using `unittest` has been added to test the `merge_sort` function with different inputs.\n",
      "6.  **Stability Test**: A test case has been added to test the stability of the Merge Sort algorithm.\n",
      "\u001b[32m \n",
      "\n",
      "REFLECTION\n",
      "\n",
      " **<OK>**\n",
      "\u001b[31m \n",
      "\n",
      "Stop Sequence found. Stopping the reflection loop ... \n",
      "\n",
      "\n"
     ]
    }
   ],
   "source": [
    "final_response = agent.run(\n",
    "    user_msg=user_msg,\n",
    "    generation_system_prompt=generation_system_prompt,\n",
    "    reflection_system_prompt=reflection_system_prompt,\n",
    "    n_steps=10,\n",
    "    verbose=1,\n",
    ")"
   ]
  },
  {
   "cell_type": "markdown",
   "id": "4b69d182-d12e-40bb-8dfb-cbc8903218a1",
   "metadata": {},
   "source": [
    "## Final result"
   ]
  },
  {
   "cell_type": "code",
   "execution_count": 10,
   "id": "6e4663cd-61dd-4a38-866a-f032045a444a",
   "metadata": {},
   "outputs": [
    {
     "data": {
      "text/markdown": [
       "**Revised Merge Sort Implementation in Python**\n",
       "=============================================\n",
       "\n",
       "### Overview\n",
       "\n",
       "This revised implementation of the Merge Sort algorithm incorporates the suggested improvements for better performance, readability, and robustness. The code includes type hints, improved docstrings, error handling, consistent naming conventions, and avoids magic numbers.\n",
       "\n",
       "### Code\n",
       "\n",
       "```python\n",
       "MIN_ELEMENTS = 1\n",
       "\n",
       "def merge_sort(arr: list) -> list:\n",
       "    \"\"\"\n",
       "    Sorts a given list using the Merge Sort algorithm.\n",
       "\n",
       "    This function modifies the input list in-place. If the input list contains non-comparable elements,\n",
       "    a TypeError is raised.\n",
       "\n",
       "    Args:\n",
       "        arr (list): The list to be sorted.\n",
       "\n",
       "    Returns:\n",
       "        list: The sorted list.\n",
       "\n",
       "    Raises:\n",
       "        TypeError: If the input list contains non-comparable elements or if the input is not a list.\n",
       "    \"\"\"\n",
       "\n",
       "    if not isinstance(arr, list):\n",
       "        raise TypeError(\"Input must be a list\")\n",
       "\n",
       "    try:\n",
       "        # Base case: If the list has MIN_ELEMENTS or fewer elements, it's already sorted.\n",
       "        if len(arr) <= MIN_ELEMENTS:\n",
       "            return arr\n",
       "\n",
       "        # Find the middle index of the list.\n",
       "        mid = len(arr) // 2\n",
       "\n",
       "        # Divide the list into two halves.\n",
       "        left_half_list = arr[:mid]\n",
       "        right_half_list = arr[mid:]\n",
       "\n",
       "        # Recursively sort each half.\n",
       "        left_half_list = merge_sort(left_half_list)\n",
       "        right_half_list = merge_sort(right_half_list)\n",
       "\n",
       "        # Merge the two sorted halves.\n",
       "        return merge(left_half_list, right_half_list)\n",
       "    except TypeError as e:\n",
       "        raise TypeError(\"Input list contains non-comparable elements\") from e\n",
       "\n",
       "\n",
       "def merge(left: list, right: list) -> list:\n",
       "    \"\"\"\n",
       "    Merges two sorted lists into a single sorted list.\n",
       "\n",
       "    Args:\n",
       "        left (list): The first sorted list.\n",
       "        right (list): The second sorted list.\n",
       "\n",
       "    Returns:\n",
       "        list: The merged sorted list.\n",
       "    \"\"\"\n",
       "    merged = []\n",
       "    left_index = 0\n",
       "    right_index = 0\n",
       "\n",
       "    while left_index < len(left) and right_index < len(right):\n",
       "        if left[left_index] <= right[right_index]:\n",
       "            merged.append(left[left_index])\n",
       "            left_index += 1\n",
       "        else:\n",
       "            merged.append(right[right_index])\n",
       "            right_index += 1\n",
       "\n",
       "    # Simplified implementation using list comprehension with a conditional expression.\n",
       "    merged.extend([x for sublist in [left[left_index:], right[right_index:]] for x in sublist])\n",
       "    return merged\n",
       "\n",
       "\n",
       "### Example Usage\n",
       "\n",
       "# Create a sample unsorted list.\n",
       "arr = [64, 34, 25, 12, 22, 11, 90]\n",
       "\n",
       "# Sort the list using Merge Sort.\n",
       "sorted_arr = merge_sort(arr)\n",
       "\n",
       "print(\"Original List:\", arr)\n",
       "print(\"Sorted List:\", sorted_arr)\n",
       "\n",
       "```\n",
       "\n",
       "This revised implementation provides a more robust and maintainable implementation of the Merge Sort algorithm. It includes type hints, improved docstrings, error handling, consistent naming conventions, and avoids magic numbers, making the code easier to understand and modify."
      ]
     },
     "metadata": {},
     "output_type": "display_data"
    }
   ],
   "source": [
    "display_markdown(final_response, raw=True)"
   ]
  },
  {
   "cell_type": "markdown",
   "id": "37263b6d",
   "metadata": {},
   "source": [
    "## test groq\n"
   ]
  },
  {
   "cell_type": "code",
   "execution_count": 4,
   "id": "15c0534b",
   "metadata": {},
   "outputs": [
    {
     "name": "stdout",
     "output_type": "stream",
     "text": [
      "学习一门新的编程语言可能很吓人，但是如果你拥有 solid 的计算机基础知识和一些编程经验，那么学习一个新语言通常并不需要太长时间。\n",
      "\n",
      "以下是一些快速学习新编程语言的技巧：\n",
      "\n",
      "1. **选择正确的学习资源**：选择一本好的入门书籍、在线课程或者网站，并且坚持学习。\n",
      "2. **学习语言的基础知识**：包括语言的语法、数据类型、控制结构、函数、对象等。\n",
      "3. **实践实践实践**：编写代码是学习编程语言的关键。尽可能多地写代码，从简单的示例到复杂的项目中。\n",
      "4. **参加社区活动**：参加本地的 meetup、用户群组或者在线社区，这些活动可以让你了解语言的最新动态，并且可以与其他开发人员交流经验。\n",
      "5. **学习框架和库**：了解官方或第三方框架和库，这些工具可以帮助你更 efficient 地开发程序。\n",
      "6. **阅读源代码**：阅读开源项目的源代码，这样可以了解语言的实际应用，并且可以学习到许多有价值的编程技巧。\n",
      "7. **不断复习和提高**：不断复习以前学过的知识，并且不断提高自己的编程技能。\n",
      "\n",
      "记住，学习新的编程语言需要时间和耐心，但是如果你一直坚持学下去，你将会取得很大的成果。\n"
     ]
    }
   ],
   "source": [
    "import os\n",
    "\n",
    "from groq import Groq\n",
    "\n",
    "client = Groq(\n",
    "    api_key=os.environ.get(\"GROQ_API_KEY\"),\n",
    ")\n",
    "\n",
    "chat_completion = client.chat.completions.create(\n",
    "    messages=[\n",
    "        {\n",
    "            \"role\": \"user\",\n",
    "            # \"content\": \"Explain the importance of fast language models\",\n",
    "            \"content\": \"如何快速学习一门编程语言？\",\n",
    "\n",
    "        }\n",
    "    ],\n",
    "    # model=\"llama3-8b-8192\",\n",
    "    model=\"mixtral-8x7b-32768\",\n",
    "\n",
    "    \n",
    ")\n",
    "\n",
    "print(chat_completion.choices[0].message.content)"
   ]
  },
  {
   "cell_type": "code",
   "execution_count": null,
   "id": "bd64f9f6",
   "metadata": {},
   "outputs": [],
   "source": []
  }
 ],
 "metadata": {
  "kernelspec": {
   "display_name": "Python 3 (ipykernel)",
   "language": "python",
   "name": "python3"
  },
  "language_info": {
   "codemirror_mode": {
    "name": "ipython",
    "version": 3
   },
   "file_extension": ".py",
   "mimetype": "text/x-python",
   "name": "python",
   "nbconvert_exporter": "python",
   "pygments_lexer": "ipython3",
   "version": "3.11.0"
  }
 },
 "nbformat": 4,
 "nbformat_minor": 5
}
